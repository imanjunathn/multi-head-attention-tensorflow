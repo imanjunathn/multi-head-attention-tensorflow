{
 "cells": [
  {
   "cell_type": "code",
   "execution_count": 1,
   "id": "93eaf819",
   "metadata": {
    "execution": {
     "iopub.execute_input": "2024-10-23T18:38:35.239261Z",
     "iopub.status.busy": "2024-10-23T18:38:35.238760Z",
     "iopub.status.idle": "2024-10-23T18:38:52.491297Z",
     "shell.execute_reply": "2024-10-23T18:38:52.489673Z"
    },
    "papermill": {
     "duration": 17.260765,
     "end_time": "2024-10-23T18:38:52.494551",
     "exception": false,
     "start_time": "2024-10-23T18:38:35.233786",
     "status": "completed"
    },
    "tags": []
   },
   "outputs": [],
   "source": [
    "import tensorflow as tf\n",
    "from tensorflow.keras.layers import Layer, Dense\n"
   ]
  },
  {
   "cell_type": "code",
   "execution_count": 2,
   "id": "6d2073b2",
   "metadata": {
    "execution": {
     "iopub.execute_input": "2024-10-23T18:38:52.502916Z",
     "iopub.status.busy": "2024-10-23T18:38:52.502191Z",
     "iopub.status.idle": "2024-10-23T18:38:52.512073Z",
     "shell.execute_reply": "2024-10-23T18:38:52.510610Z"
    },
    "papermill": {
     "duration": 0.017001,
     "end_time": "2024-10-23T18:38:52.514813",
     "exception": false,
     "start_time": "2024-10-23T18:38:52.497812",
     "status": "completed"
    },
    "tags": []
   },
   "outputs": [],
   "source": [
    "class DotProductAttention(Layer):\n",
    "    def __init__(self, **kwargs):\n",
    "        super(DotProductAttention,self).__init__(**kwargs)\n",
    "    \n",
    "    def call(self, q, k, v, mask=None):   \n",
    "        dk = tf.cast(tf.shape(k)[-1],tf.float32)\n",
    "        matmul_qk = tf.matmul(q, k, transpose_b=True)\n",
    "        \n",
    "        scores = matmul_qk / tf.math.sqrt(dk)\n",
    "        \n",
    "        if mask is not None:\n",
    "            scores += (-1e9 * mask)\n",
    "        \n",
    "        weights = tf.nn.softmax(scores)\n",
    "            \n",
    "        return tf.matmul(weights, v)\n",
    "        \n",
    "\n",
    "    "
   ]
  },
  {
   "cell_type": "code",
   "execution_count": 3,
   "id": "4803ef76",
   "metadata": {
    "execution": {
     "iopub.execute_input": "2024-10-23T18:38:52.521961Z",
     "iopub.status.busy": "2024-10-23T18:38:52.521524Z",
     "iopub.status.idle": "2024-10-23T18:38:52.535644Z",
     "shell.execute_reply": "2024-10-23T18:38:52.534050Z"
    },
    "papermill": {
     "duration": 0.021266,
     "end_time": "2024-10-23T18:38:52.538807",
     "exception": false,
     "start_time": "2024-10-23T18:38:52.517541",
     "status": "completed"
    },
    "tags": []
   },
   "outputs": [],
   "source": [
    "class MultiHeadAttention(Layer):\n",
    "    def __init__(self, d_model, number_heads):\n",
    "        super(MultiHeadAttention, self).__init__()\n",
    "        \n",
    "        self.d_model = d_model\n",
    "        self.num_heads = number_heads\n",
    "        self.attention = DotProductAttention()  # Scaled dot product attention\n",
    "        \n",
    "        assert self.d_model % self.num_heads == 0, \"d_model must be divisible by number_heads\"\n",
    "        \n",
    "        self.depth = self.d_model // self.num_heads\n",
    "        \n",
    "        self.wq = Dense(self.d_model)\n",
    "        self.wk = Dense(self.d_model)\n",
    "        self.wv = Dense(self.d_model)\n",
    "        self.dense = Dense(self.d_model)\n",
    "        \n",
    "    def  reshape_tensor(self,x, batch_size, flag=False):\n",
    "        if flag:\n",
    "            x = tf.reshape(x,(batch_size, -1, self.num_heads, self.depth))\n",
    "            return tf.transpose(x,perm=(0,2,1,3))\n",
    "        else:    \n",
    "            x = tf.transpose(x,perm=(0,2,1,3))\n",
    "            x = tf.reshape(x, (batch_size, -1, self.d_model))\n",
    "            return x\n",
    "    \n",
    "    def call(self, q, k, v, mask=None):\n",
    "        batch_size = tf.shape(q)[0]\n",
    "        \n",
    "        wq = self.wq(q)\n",
    "        wk = self.wq(k)\n",
    "        wv = self.wq(v)\n",
    "        \n",
    "        q = self.reshape_tensor(wq,batch_size,True)\n",
    "        k = self.reshape_tensor(wk,batch_size,True)\n",
    "        v = self.reshape_tensor(wv,batch_size,True)\n",
    "        \n",
    "        scaled_dot_product = self.attention(q, k, v)\n",
    "        \n",
    "        output = self.reshape_tensor(scaled_dot_product, batch_size)\n",
    "        \n",
    "        return self.dense(output)\n",
    "        \n",
    "        \n",
    "        \n",
    "        \n",
    "        "
   ]
  },
  {
   "cell_type": "code",
   "execution_count": 4,
   "id": "ffe35fa7",
   "metadata": {
    "execution": {
     "iopub.execute_input": "2024-10-23T18:38:52.547007Z",
     "iopub.status.busy": "2024-10-23T18:38:52.545590Z",
     "iopub.status.idle": "2024-10-23T18:38:52.825867Z",
     "shell.execute_reply": "2024-10-23T18:38:52.824266Z"
    },
    "papermill": {
     "duration": 0.287755,
     "end_time": "2024-10-23T18:38:52.829282",
     "exception": false,
     "start_time": "2024-10-23T18:38:52.541527",
     "status": "completed"
    },
    "tags": []
   },
   "outputs": [
    {
     "name": "stdout",
     "output_type": "stream",
     "text": [
      "Attention Output Shape: (2, 10, 128)\n",
      "Attention Ouputs: tf.Tensor(\n",
      "[[[-0.32265615  0.9651206  -0.2806585  ... -0.10053803 -0.636615\n",
      "   -0.17914836]\n",
      "  [-0.07004663  0.63617736 -0.16153038 ...  0.38840243 -0.5573803\n",
      "   -0.1173067 ]\n",
      "  [ 0.6227718   0.8793129   0.599577   ...  0.24041915 -0.1250247\n",
      "   -0.12637393]\n",
      "  ...\n",
      "  [ 0.3822587   0.67935157  0.09969366 ... -0.4497999  -0.10653894\n",
      "    0.45871755]\n",
      "  [ 0.3895616   0.8173699  -0.6279467  ...  0.88777405 -0.44590983\n",
      "    0.8041307 ]\n",
      "  [ 0.5237001   1.3001679  -0.1341544  ...  0.24196798  0.03595141\n",
      "   -0.3759784 ]]\n",
      "\n",
      " [[-0.1789748   0.31377462  0.14176211 ... -0.23341519  0.21462253\n",
      "   -0.36530882]\n",
      "  [-0.5872561   0.88563955  0.1219231  ... -0.1828457  -0.46431234\n",
      "   -0.66672117]\n",
      "  [-0.915837   -0.48023933  0.02416225 ... -0.5908037  -0.38637185\n",
      "    0.64776105]\n",
      "  ...\n",
      "  [-0.89791274  0.30910543  0.23455557 ... -0.43627554  0.20827626\n",
      "   -0.0033973 ]\n",
      "  [-0.40550196  0.54268426 -0.4642162  ... -0.3497911   0.243126\n",
      "   -0.36116546]\n",
      "  [-0.96638864  0.22298487  0.4817528  ... -0.3340884  -0.1871029\n",
      "   -0.895177  ]]], shape=(2, 10, 128), dtype=float32)\n"
     ]
    },
    {
     "name": "stderr",
     "output_type": "stream",
     "text": [
      "/opt/conda/lib/python3.10/site-packages/keras/src/layers/layer.py:361: UserWarning: `build()` was called on layer 'multi_head_attention', however the layer does not have a `build()` method implemented and it looks like it has unbuilt state. This will cause the layer to be marked as built, despite not being actually built, which may cause failures down the line. Make sure to implement a proper `build()` method.\n",
      "  warnings.warn(\n"
     ]
    }
   ],
   "source": [
    "# Define the input tensor dimensions\n",
    "d_model = 128  # Model dimensionality\n",
    "num_heads = 8  # Number of attention heads\n",
    "seq_len = 10   # Sequence length\n",
    "\n",
    "# Sample query, key, and value tensors\n",
    "query = tf.random.normal((2, seq_len, d_model))  # (batch_size=2, seq_len, d_model)\n",
    "key = tf.random.normal((2, seq_len, d_model))    # (batch_size=2, seq_len, d_model)\n",
    "value = tf.random.normal((2, seq_len, d_model))  # (batch_size=2, seq_len, d_model)\n",
    "\n",
    "\n",
    "# Create the Multi-Head Attention layer\n",
    "mha = MultiHeadAttention(d_model, num_heads)\n",
    "\n",
    "# Forward pass\n",
    "attention_output = mha(value, key, query)\n",
    "\n",
    "print(\"Attention Output Shape:\", attention_output.shape)  # (batch_size, seq_len, d_model)\n",
    "print(\"Attention Ouputs:\", attention_output)  "
   ]
  },
  {
   "cell_type": "code",
   "execution_count": null,
   "id": "331e89c2",
   "metadata": {
    "papermill": {
     "duration": 0.002511,
     "end_time": "2024-10-23T18:38:52.834857",
     "exception": false,
     "start_time": "2024-10-23T18:38:52.832346",
     "status": "completed"
    },
    "tags": []
   },
   "outputs": [],
   "source": []
  }
 ],
 "metadata": {
  "kaggle": {
   "accelerator": "none",
   "dataSources": [],
   "dockerImageVersionId": 30786,
   "isGpuEnabled": false,
   "isInternetEnabled": true,
   "language": "python",
   "sourceType": "notebook"
  },
  "kernelspec": {
   "display_name": "Python 3",
   "language": "python",
   "name": "python3"
  },
  "language_info": {
   "codemirror_mode": {
    "name": "ipython",
    "version": 3
   },
   "file_extension": ".py",
   "mimetype": "text/x-python",
   "name": "python",
   "nbconvert_exporter": "python",
   "pygments_lexer": "ipython3",
   "version": "3.10.14"
  },
  "papermill": {
   "default_parameters": {},
   "duration": 22.134994,
   "end_time": "2024-10-23T18:38:54.164287",
   "environment_variables": {},
   "exception": null,
   "input_path": "__notebook__.ipynb",
   "output_path": "__notebook__.ipynb",
   "parameters": {},
   "start_time": "2024-10-23T18:38:32.029293",
   "version": "2.6.0"
  }
 },
 "nbformat": 4,
 "nbformat_minor": 5
}
